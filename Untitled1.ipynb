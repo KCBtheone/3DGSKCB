{
 "cells": [
  {
   "cell_type": "code",
   "execution_count": 1,
   "id": "62ebefa1-fade-4606-b8c1-5012b12f38cc",
   "metadata": {},
   "outputs": [
    {
     "name": "stdout",
     "output_type": "stream",
     "text": [
      "相机文件包含以下Key: ['poses', 'intrinsics', 'camera_models', 'distortion_parameters', 'image_sizes']\n"
     ]
    }
   ],
   "source": [
    "import numpy as np\n",
    "cam_file_path = '/root/autodl-tmp/gaussian-splatting/data/predictions/cameras/DSC07956.npz'\n",
    "cam_data = np.load(cam_file_path)\n",
    "print(\"相机文件包含以下Key:\", cam_data.files)"
   ]
  },
  {
   "cell_type": "code",
   "execution_count": null,
   "id": "a74acdcf-9a1f-4d32-9c55-3600b2579ac7",
   "metadata": {},
   "outputs": [],
   "source": []
  }
 ],
 "metadata": {
  "kernelspec": {
   "display_name": "Python 3 (ipykernel)",
   "language": "python",
   "name": "python3"
  },
  "language_info": {
   "codemirror_mode": {
    "name": "ipython",
    "version": 3
   },
   "file_extension": ".py",
   "mimetype": "text/x-python",
   "name": "python",
   "nbconvert_exporter": "python",
   "pygments_lexer": "ipython3",
   "version": "3.10.18"
  }
 },
 "nbformat": 4,
 "nbformat_minor": 5
}
